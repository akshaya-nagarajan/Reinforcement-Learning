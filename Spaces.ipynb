{
 "cells": [
  {
   "cell_type": "code",
   "execution_count": 1,
   "metadata": {},
   "outputs": [
    {
     "name": "stdout",
     "output_type": "stream",
     "text": [
      "Observation Space:\n",
      "Box(-1.2000000476837158, 0.6000000238418579, (2,), float32)\n",
      "\n",
      " space.low:  [-1.2  -0.07]\n",
      "\n",
      " space.high:  [0.6  0.07]\n",
      "Action Space:\n",
      "Discrete(3)\n"
     ]
    }
   ],
   "source": [
    "import gym\n",
    "from gym.spaces import *\n",
    "\n",
    "def print_spaces(space):\n",
    "    print(space)\n",
    "    if isinstance(space, Box): # Print lower and upper bound if it's a Box space\n",
    "        print(\"\\n space.low: \", space.low)\n",
    "        print(\"\\n space.high: \", space.high)\n",
    "\n",
    "    \n",
    "if __name__ == \"__main__\":\n",
    "    env = gym.make(\"MountainCar-v0\")\n",
    "    print(\"Observation Space:\")\n",
    "    print_spaces(env.observation_space)\n",
    "    print(\"Action Space:\")\n",
    "    print_spaces(env.action_space)\n",
    "    try:\n",
    "        print(\"Action description/meaning:\",env.unwrapped.get_action_meanings())\n",
    "    except AttributeError:\n",
    "        pass"
   ]
  }
 ],
 "metadata": {
  "kernelspec": {
   "display_name": "Python 3",
   "language": "python",
   "name": "python3"
  },
  "language_info": {
   "codemirror_mode": {
    "name": "ipython",
    "version": 3
   },
   "file_extension": ".py",
   "mimetype": "text/x-python",
   "name": "python",
   "nbconvert_exporter": "python",
   "pygments_lexer": "ipython3",
   "version": "3.8.6"
  }
 },
 "nbformat": 4,
 "nbformat_minor": 4
}
