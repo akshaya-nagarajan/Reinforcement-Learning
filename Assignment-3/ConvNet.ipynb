{
 "cells": [
  {
   "cell_type": "code",
   "execution_count": 2,
   "metadata": {},
   "outputs": [
    {
     "name": "stdout",
     "output_type": "stream",
     "text": [
      "Collecting torch\n",
      "  Downloading torch-1.6.0-cp38-none-macosx_10_9_x86_64.whl (97.5 MB)\n",
      "\u001b[K     |████████████████████████████████| 97.5 MB 2.9 MB/s eta 0:00:01    |                                | 143 kB 1.9 MB/s eta 0:00:53     |███▍                            | 10.3 MB 4.5 MB/s eta 0:00:20     |█████▎                          | 16.2 MB 4.9 MB/s eta 0:00:17     |███████▌                        | 22.8 MB 3.2 MB/s eta 0:00:24     |████████████████████████▎       | 74.1 MB 2.3 MB/s eta 0:00:11\n",
      "\u001b[?25hRequirement already satisfied: numpy in /usr/local/lib/python3.8/site-packages (from torch) (1.19.2)\n",
      "Requirement already satisfied: future in /usr/local/lib/python3.8/site-packages (from torch) (0.18.2)\n",
      "Installing collected packages: torch\n",
      "Successfully installed torch-1.6.0\n"
     ]
    }
   ],
   "source": [
    "!pip3 install torch"
   ]
  },
  {
   "cell_type": "code",
   "execution_count": 5,
   "metadata": {},
   "outputs": [
    {
     "name": "stdout",
     "output_type": "stream",
     "text": [
      "Collecting torchvision\n",
      "  Downloading torchvision-0.7.0-cp38-cp38-macosx_10_9_x86_64.whl (387 kB)\n",
      "\u001b[K     |████████████████████████████████| 387 kB 205 kB/s eta 0:00:01\n",
      "\u001b[?25hRequirement already satisfied: torch==1.6.0 in /usr/local/lib/python3.8/site-packages (from torchvision) (1.6.0)\n",
      "Requirement already satisfied: numpy in /usr/local/lib/python3.8/site-packages (from torchvision) (1.19.2)\n",
      "Collecting pillow>=4.1.1\n",
      "  Downloading Pillow-7.2.0-cp38-cp38-macosx_10_10_x86_64.whl (2.2 MB)\n",
      "\u001b[K     |████████████████████████████████| 2.2 MB 2.1 MB/s eta 0:00:01\n",
      "\u001b[?25hRequirement already satisfied: future in /usr/local/lib/python3.8/site-packages (from torch==1.6.0->torchvision) (0.18.2)\n",
      "Installing collected packages: pillow, torchvision\n",
      "Successfully installed pillow-7.2.0 torchvision-0.7.0\n"
     ]
    }
   ],
   "source": [
    "!pip3 install torchvision"
   ]
  },
  {
   "cell_type": "code",
   "execution_count": 2,
   "metadata": {},
   "outputs": [
    {
     "name": "stdout",
     "output_type": "stream",
     "text": [
      "Epoch [1/5], Step [100/600], Loss: 0.1175\n",
      "Epoch [1/5], Step [200/600], Loss: 0.1128\n",
      "Epoch [1/5], Step [300/600], Loss: 0.0253\n",
      "Epoch [1/5], Step [400/600], Loss: 0.1092\n",
      "Epoch [1/5], Step [500/600], Loss: 0.1668\n",
      "Epoch [1/5], Step [600/600], Loss: 0.1324\n",
      "Epoch [2/5], Step [100/600], Loss: 0.0451\n",
      "Epoch [2/5], Step [200/600], Loss: 0.0124\n",
      "Epoch [2/5], Step [300/600], Loss: 0.1191\n",
      "Epoch [2/5], Step [400/600], Loss: 0.0076\n",
      "Epoch [2/5], Step [500/600], Loss: 0.1077\n",
      "Epoch [2/5], Step [600/600], Loss: 0.0184\n",
      "Epoch [3/5], Step [100/600], Loss: 0.0698\n",
      "Epoch [3/5], Step [200/600], Loss: 0.0706\n",
      "Epoch [3/5], Step [300/600], Loss: 0.0387\n",
      "Epoch [3/5], Step [400/600], Loss: 0.0179\n",
      "Epoch [3/5], Step [500/600], Loss: 0.0180\n",
      "Epoch [3/5], Step [600/600], Loss: 0.0137\n",
      "Epoch [4/5], Step [100/600], Loss: 0.0305\n",
      "Epoch [4/5], Step [200/600], Loss: 0.0375\n",
      "Epoch [4/5], Step [300/600], Loss: 0.0418\n",
      "Epoch [4/5], Step [400/600], Loss: 0.0099\n",
      "Epoch [4/5], Step [500/600], Loss: 0.0277\n",
      "Epoch [4/5], Step [600/600], Loss: 0.0083\n",
      "Epoch [5/5], Step [100/600], Loss: 0.0032\n",
      "Epoch [5/5], Step [200/600], Loss: 0.0314\n",
      "Epoch [5/5], Step [300/600], Loss: 0.0174\n",
      "Epoch [5/5], Step [400/600], Loss: 0.0120\n",
      "Epoch [5/5], Step [500/600], Loss: 0.0695\n",
      "Epoch [5/5], Step [600/600], Loss: 0.0549\n",
      "Test Accuracy of the model on the 10000 test images: 98.93 %\n"
     ]
    },
    {
     "data": {
      "image/png": "[encoded data removed]",
      "text/plain": [
       "<Figure size 432x288 with 1 Axes>"
      ]
     },
     "metadata": {
      "needs_background": "light"
     },
     "output_type": "display_data"
    }
   ],
   "source": [
    "import torch \n",
    "import torch.nn as nn\n",
    "import torchvision\n",
    "import torchvision.transforms as transforms\n",
    "import matplotlib.pyplot as plt\n",
    "\n",
    "# Device configuration\n",
    "device = torch.device('cuda:0' if torch.cuda.is_available() else 'cpu')\n",
    "\n",
    "# Hyper parameters\n",
    "num_epochs = 5\n",
    "num_classes = 10\n",
    "batch_size = 100\n",
    "learning_rate = 0.001\n",
    "\n",
    "# MNIST dataset\n",
    "train_dataset = torchvision.datasets.MNIST(root='../../data/',\n",
    "                                           train=True, \n",
    "                                           transform=transforms.ToTensor(),\n",
    "                                           download=True)\n",
    "\n",
    "test_dataset = torchvision.datasets.MNIST(root='../../data/',\n",
    "                                          train=False, \n",
    "                                          transform=transforms.ToTensor())\n",
    "\n",
    "# Data loader\n",
    "train_loader = torch.utils.data.DataLoader(dataset=train_dataset,\n",
    "                                           batch_size=batch_size, \n",
    "                                           shuffle=True)\n",
    "\n",
    "test_loader = torch.utils.data.DataLoader(dataset=test_dataset,\n",
    "                                          batch_size=batch_size, \n",
    "                                          shuffle=False)\n",
    "\n",
    "# Convolutional neural network (two convolutional layers)\n",
    "class ConvNet(nn.Module):\n",
    "    def __init__(self, num_classes=10):\n",
    "        super(ConvNet, self).__init__()\n",
    "        self.layer1 = nn.Sequential(\n",
    "            nn.Conv2d(1, 16, kernel_size=5, stride=1, padding=2),\n",
    "            nn.BatchNorm2d(16),\n",
    "            nn.ReLU(),\n",
    "            nn.MaxPool2d(kernel_size=2, stride=2))\n",
    "        self.layer2 = nn.Sequential(\n",
    "            nn.Conv2d(16, 32, kernel_size=5, stride=1, padding=2),\n",
    "            nn.BatchNorm2d(32),\n",
    "            nn.ReLU(),\n",
    "            nn.MaxPool2d(kernel_size=2, stride=2))\n",
    "        self.fc = nn.Linear(7*7*32, num_classes)\n",
    "        \n",
    "    def forward(self, x):\n",
    "        out = self.layer1(x)\n",
    "        out = self.layer2(out)\n",
    "        out = out.reshape(out.size(0), -1)\n",
    "        out = self.fc(out)\n",
    "        return out\n",
    "\n",
    "model = ConvNet(num_classes).to(device)\n",
    "\n",
    "# Loss and optimizer\n",
    "criterion = nn.CrossEntropyLoss()\n",
    "optimizer = torch.optim.Adam(model.parameters(), lr=learning_rate)\n",
    "\n",
    "# Train the model\n",
    "total_step = len(train_loader)\n",
    "train_log = []\n",
    "for epoch in range(num_epochs):\n",
    "    for i, (images, labels) in enumerate(train_loader):\n",
    "        images = images.to(device)\n",
    "        labels = labels.to(device)\n",
    "        \n",
    "        # Forward pass\n",
    "        outputs = model(images)\n",
    "        loss = criterion(outputs, labels)\n",
    "        \n",
    "        # Backward and optimize\n",
    "        optimizer.zero_grad() # Clear gradients w.r.t. parameters\n",
    "        loss.backward()\n",
    "        optimizer.step()\n",
    "        \n",
    "        if (i+1) % 100 == 0:\n",
    "            print ('Epoch [{}/{}], Step [{}/{}], Loss: {:.4f}' \n",
    "                   .format(epoch+1, num_epochs, i+1, total_step, loss.item()))\n",
    "            train_log.append(loss.item())\n",
    "\n",
    "# Test the model\n",
    "model.eval()  # eval mode (batchnorm uses moving mean/variance instead of mini-batch mean/variance)\n",
    "with torch.no_grad():\n",
    "    correct = 0\n",
    "    total = 0\n",
    "    for images, labels in test_loader:\n",
    "        images = images.to(device)\n",
    "        labels = labels.to(device)\n",
    "        outputs = model(images)\n",
    "        _, predicted = torch.max(outputs.data, 1)\n",
    "        total += labels.size(0)\n",
    "        correct += (predicted == labels).sum().item()\n",
    "\n",
    "    print('Test Accuracy of the model on the 10000 test images: {} %'.format(100 * correct / total))\n",
    "\n",
    "# Save the model checkpoint\n",
    "torch.save(model.state_dict(), 'model.ckpt')\n",
    "\n",
    "plt.plot(train_log,label='train los')\n",
    "plt.legend(loc='best')\n",
    "plt.grid()\n",
    "plt.show()"
   ]
  }
 ],
 "metadata": {
  "kernelspec": {
   "display_name": "Python 3",
   "language": "python",
   "name": "python3"
  },
  "language_info": {
   "codemirror_mode": {
    "name": "ipython",
    "version": 3
   },
   "file_extension": ".py",
   "mimetype": "text/x-python",
   "name": "python",
   "nbconvert_exporter": "python",
   "pygments_lexer": "ipython3",
   "version": "3.8.6"
  }
 },
 "nbformat": 4,
 "nbformat_minor": 4
}
